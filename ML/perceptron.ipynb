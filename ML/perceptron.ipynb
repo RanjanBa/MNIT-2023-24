{
 "cells": [
  {
   "cell_type": "code",
   "execution_count": 1,
   "id": "70d798f1-9a8a-4b60-a7bf-2f410a48835e",
   "metadata": {},
   "outputs": [],
   "source": [
    "import numpy as np"
   ]
  },
  {
   "cell_type": "code",
   "execution_count": 3,
   "id": "15bbc7c4-3717-4342-9220-82d7947cc91f",
   "metadata": {},
   "outputs": [],
   "source": [
    "train_data = np.array([[0,0,-1], [0,1,-1], [1,0,-1], [1,1,1]])"
   ]
  },
  {
   "cell_type": "code",
   "execution_count": 8,
   "id": "4f1f3eda-f4b5-47c2-8467-c34427c43df6",
   "metadata": {},
   "outputs": [
    {
     "data": {
      "text/plain": [
       "array([[ 0,  0, -1],\n",
       "       [ 0,  1, -1],\n",
       "       [ 1,  0, -1],\n",
       "       [ 1,  1,  1]])"
      ]
     },
     "execution_count": 8,
     "metadata": {},
     "output_type": "execute_result"
    }
   ],
   "source": [
    "train_data"
   ]
  },
  {
   "cell_type": "code",
   "execution_count": 32,
   "id": "80b59cd9-2630-4cf3-a00c-1b2da079e709",
   "metadata": {},
   "outputs": [
    {
     "data": {
      "text/plain": [
       "array([[0, 0],\n",
       "       [0, 1],\n",
       "       [1, 0],\n",
       "       [1, 1]])"
      ]
     },
     "execution_count": 32,
     "metadata": {},
     "output_type": "execute_result"
    }
   ],
   "source": [
    "train_x = train_data[:,:2]\n",
    "train_x"
   ]
  },
  {
   "cell_type": "code",
   "execution_count": 33,
   "id": "51b12e51-fa48-4b5d-a274-876efdec264a",
   "metadata": {},
   "outputs": [
    {
     "data": {
      "text/plain": [
       "array([[-1],\n",
       "       [-1],\n",
       "       [-1],\n",
       "       [ 1]])"
      ]
     },
     "execution_count": 33,
     "metadata": {},
     "output_type": "execute_result"
    }
   ],
   "source": [
    "train_y = train_data[:,2:]\n",
    "train_y"
   ]
  },
  {
   "cell_type": "code",
   "execution_count": 63,
   "id": "8ec353cb-c632-4e3a-b10e-5185adf0dd72",
   "metadata": {},
   "outputs": [
    {
     "data": {
      "text/plain": [
       "array([[1.],\n",
       "       [1.],\n",
       "       [1.],\n",
       "       [1.]])"
      ]
     },
     "execution_count": 63,
     "metadata": {},
     "output_type": "execute_result"
    }
   ],
   "source": [
    "ones = np.ones([len(train_x), 1])\n",
    "ones"
   ]
  },
  {
   "cell_type": "code",
   "execution_count": 64,
   "id": "05162d26-94e3-4047-ba8b-5b3722c23f9d",
   "metadata": {},
   "outputs": [
    {
     "data": {
      "text/plain": [
       "array([[1., 0., 0.],\n",
       "       [1., 0., 1.],\n",
       "       [1., 1., 0.],\n",
       "       [1., 1., 1.]])"
      ]
     },
     "execution_count": 64,
     "metadata": {},
     "output_type": "execute_result"
    }
   ],
   "source": [
    "np.append(ones, train_x, axis=1)"
   ]
  },
  {
   "cell_type": "code",
   "execution_count": 96,
   "id": "336b419c-a909-4d3f-9a03-e3b45c9c34b4",
   "metadata": {},
   "outputs": [
    {
     "data": {
      "text/plain": [
       "array([[1., 0., 0.],\n",
       "       [1., 0., 1.],\n",
       "       [1., 1., 0.],\n",
       "       [1., 1., 1.]])"
      ]
     },
     "execution_count": 96,
     "metadata": {},
     "output_type": "execute_result"
    }
   ],
   "source": [
    "update_train_x = np.append(ones, train_x, axis=1)\n",
    "update_train_x"
   ]
  },
  {
   "cell_type": "code",
   "execution_count": 162,
   "id": "0f4202ec-3f94-4909-9c6a-d82d044b723b",
   "metadata": {},
   "outputs": [
    {
     "data": {
      "text/plain": [
       "array([0., 0., 0.])"
      ]
     },
     "execution_count": 162,
     "metadata": {},
     "output_type": "execute_result"
    }
   ],
   "source": [
    "w = np.zeros([len(train_x[0]) + 1], dtype=float)\n",
    "w"
   ]
  },
  {
   "cell_type": "code",
   "execution_count": 163,
   "id": "c45de442-507e-48c4-8af5-47db8f0d8128",
   "metadata": {},
   "outputs": [
    {
     "name": "stdout",
     "output_type": "stream",
     "text": [
      "[0. 0. 0.]\n",
      "[0. 1. 1.]\n",
      "[-1.  2.  1.]\n",
      "[-2.  2.  1.]\n",
      "[-2.  2.  2.]\n",
      "[-3.  2.  1.]\n",
      "[-3.  2.  1.]\n"
     ]
    }
   ],
   "source": [
    "print(w)\n",
    "for epocs in range(100000):\n",
    "    is_changed = False\n",
    "    for i in range(len(train_y)):\n",
    "        y_predict = np.matmul(w, update_train_x[i])\n",
    "        if y_predict < 0 and train_y[i] > 0:\n",
    "            w = np.add(w, np.transpose(update_train_x[i]))\n",
    "            is_changed = True\n",
    "        elif y_predict >= 0 and train_y[i] < 0:\n",
    "            w = np.subtract(w, np.transpose(update_train_x[i]))\n",
    "            is_changed = True\n",
    "    \n",
    "    print(np.transpose(w))\n",
    "    if not is_changed:\n",
    "        break"
   ]
  },
  {
   "cell_type": "code",
   "execution_count": null,
   "id": "f42b3f9d-0ff1-42e2-8201-d7bd9d704cd7",
   "metadata": {},
   "outputs": [],
   "source": []
  },
  {
   "cell_type": "code",
   "execution_count": null,
   "id": "b50ddc2f-46f1-4b27-8dbb-eb3433bd2d1b",
   "metadata": {},
   "outputs": [],
   "source": []
  }
 ],
 "metadata": {
  "kernelspec": {
   "display_name": "Python 3 (ipykernel)",
   "language": "python",
   "name": "python3"
  },
  "language_info": {
   "codemirror_mode": {
    "name": "ipython",
    "version": 3
   },
   "file_extension": ".py",
   "mimetype": "text/x-python",
   "name": "python",
   "nbconvert_exporter": "python",
   "pygments_lexer": "ipython3",
   "version": "3.11.4"
  }
 },
 "nbformat": 4,
 "nbformat_minor": 5
}
